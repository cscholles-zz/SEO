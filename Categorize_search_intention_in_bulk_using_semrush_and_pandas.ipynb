{
  "nbformat": 4,
  "nbformat_minor": 0,
  "metadata": {
    "colab": {
      "name": "Categorize search intention in bulk using semrush and pandas",
      "provenance": [],
      "include_colab_link": true
    },
    "kernelspec": {
      "name": "python3",
      "display_name": "Python 3"
    }
  },
  "cells": [
    {
      "cell_type": "markdown",
      "metadata": {
        "id": "view-in-github",
        "colab_type": "text"
      },
      "source": [
        "<a href=\"https://colab.research.google.com/github/cscholles/SEO/blob/master/Categorize_search_intention_in_bulk_using_semrush_and_pandas.ipynb\" target=\"_parent\"><img src=\"https://colab.research.google.com/assets/colab-badge.svg\" alt=\"Open In Colab\"/></a>"
      ]
    },
    {
      "cell_type": "markdown",
      "metadata": {
        "id": "zXtoZxiHw_fr",
        "colab_type": "text"
      },
      "source": [
        "#Import Libraries and Data"
      ]
    },
    {
      "cell_type": "code",
      "metadata": {
        "id": "U4yJpUwvRWNU",
        "colab_type": "code",
        "colab": {}
      },
      "source": [
        "#importing libraries\n",
        "import pandas as pd\n",
        "import numpy as np\n",
        "import re #regex"
      ],
      "execution_count": 1,
      "outputs": []
    },
    {
      "cell_type": "code",
      "metadata": {
        "id": "e11vOIN9ypPo",
        "colab_type": "code",
        "colab": {
          "base_uri": "https://localhost:8080/",
          "height": 33
        },
        "outputId": "d16166f4-33e1-4945-f9eb-011a605ca9cc"
      },
      "source": [
        "#google mount\n",
        "from google.colab import drive\n",
        "drive.mount('/content/drive')"
      ],
      "execution_count": 2,
      "outputs": [
        {
          "output_type": "stream",
          "text": [
            "Drive already mounted at /content/drive; to attempt to forcibly remount, call drive.mount(\"/content/drive\", force_remount=True).\n"
          ],
          "name": "stdout"
        }
      ]
    },
    {
      "cell_type": "code",
      "metadata": {
        "id": "nGCQ0kLBRbd-",
        "colab_type": "code",
        "colab": {}
      },
      "source": [
        "#substitute path\n",
        "df_kwstudy=pd.read_csv('/content/drive/My Drive/Colab Notebooks/carolinescholles.com-organic.Positions-br-20200811-2020-08-12T17_47_30Z.csv') #path to csv file"
      ],
      "execution_count": 3,
      "outputs": []
    },
    {
      "cell_type": "code",
      "metadata": {
        "id": "ZzlmMKJKRk2p",
        "colab_type": "code",
        "colab": {
          "base_uri": "https://localhost:8080/",
          "height": 430
        },
        "outputId": "1ca0e5f6-c053-4030-9293-e8abab9ebf21"
      },
      "source": [
        "df_kwstudy.head(3) #let's see what we've just imported"
      ],
      "execution_count": 4,
      "outputs": [
        {
          "output_type": "execute_result",
          "data": {
            "text/html": [
              "<div>\n",
              "<style scoped>\n",
              "    .dataframe tbody tr th:only-of-type {\n",
              "        vertical-align: middle;\n",
              "    }\n",
              "\n",
              "    .dataframe tbody tr th {\n",
              "        vertical-align: top;\n",
              "    }\n",
              "\n",
              "    .dataframe thead th {\n",
              "        text-align: right;\n",
              "    }\n",
              "</style>\n",
              "<table border=\"1\" class=\"dataframe\">\n",
              "  <thead>\n",
              "    <tr style=\"text-align: right;\">\n",
              "      <th></th>\n",
              "      <th>Keyword</th>\n",
              "      <th>Position</th>\n",
              "      <th>Previous position</th>\n",
              "      <th>Search Volume</th>\n",
              "      <th>Keyword Difficulty</th>\n",
              "      <th>CPC</th>\n",
              "      <th>URL</th>\n",
              "      <th>Traffic</th>\n",
              "      <th>Traffic (%)</th>\n",
              "      <th>Traffic Cost</th>\n",
              "      <th>Competition</th>\n",
              "      <th>Number of Results</th>\n",
              "      <th>Trends</th>\n",
              "      <th>Timestamp</th>\n",
              "      <th>SERP Features by Keyword</th>\n",
              "    </tr>\n",
              "  </thead>\n",
              "  <tbody>\n",
              "    <tr>\n",
              "      <th>0</th>\n",
              "      <td>nuvem de palavras</td>\n",
              "      <td>89</td>\n",
              "      <td>0</td>\n",
              "      <td>9900</td>\n",
              "      <td>69.71</td>\n",
              "      <td>25.96</td>\n",
              "      <td>https://carolinescholles.com/nuvem-de-palavras...</td>\n",
              "      <td>0</td>\n",
              "      <td>0</td>\n",
              "      <td>0.0</td>\n",
              "      <td>0.03</td>\n",
              "      <td>11200000</td>\n",
              "      <td>[45,45,45,55,82,67,100,82,67,55,82,100]</td>\n",
              "      <td>2020-08-11</td>\n",
              "      <td>Knowledge panel, Site links, Reviews, Video Ca...</td>\n",
              "    </tr>\n",
              "    <tr>\n",
              "      <th>1</th>\n",
              "      <td>nuvem de palavras online</td>\n",
              "      <td>85</td>\n",
              "      <td>85</td>\n",
              "      <td>1600</td>\n",
              "      <td>70.70</td>\n",
              "      <td>6.80</td>\n",
              "      <td>https://carolinescholles.com/nuvem-de-palavras...</td>\n",
              "      <td>0</td>\n",
              "      <td>0</td>\n",
              "      <td>0.0</td>\n",
              "      <td>0.05</td>\n",
              "      <td>34100000</td>\n",
              "      <td>[25,42,42,54,67,79,100,100,67,54,79,79]</td>\n",
              "      <td>2020-08-09</td>\n",
              "      <td>Knowledge panel, Site links, Reviews, Video Ca...</td>\n",
              "    </tr>\n",
              "    <tr>\n",
              "      <th>2</th>\n",
              "      <td>criar nuvem de palavras</td>\n",
              "      <td>40</td>\n",
              "      <td>40</td>\n",
              "      <td>480</td>\n",
              "      <td>67.08</td>\n",
              "      <td>6.49</td>\n",
              "      <td>https://carolinescholles.com/nuvem-de-palavras...</td>\n",
              "      <td>0</td>\n",
              "      <td>0</td>\n",
              "      <td>2.0</td>\n",
              "      <td>0.07</td>\n",
              "      <td>12300000</td>\n",
              "      <td>[54,67,54,54,82,82,100,82,67,54,67,82]</td>\n",
              "      <td>2020-08-05</td>\n",
              "      <td>Image pack, Reviews, Video Carousel, People al...</td>\n",
              "    </tr>\n",
              "  </tbody>\n",
              "</table>\n",
              "</div>"
            ],
            "text/plain": [
              "                    Keyword  ...                           SERP Features by Keyword\n",
              "0         nuvem de palavras  ...  Knowledge panel, Site links, Reviews, Video Ca...\n",
              "1  nuvem de palavras online  ...  Knowledge panel, Site links, Reviews, Video Ca...\n",
              "2   criar nuvem de palavras  ...  Image pack, Reviews, Video Carousel, People al...\n",
              "\n",
              "[3 rows x 15 columns]"
            ]
          },
          "metadata": {
            "tags": []
          },
          "execution_count": 4
        }
      ]
    },
    {
      "cell_type": "code",
      "metadata": {
        "id": "-UjbbgxaRvH-",
        "colab_type": "code",
        "colab": {}
      },
      "source": [
        "df_kwstudy.drop(['Previous position','CPC','Traffic','Traffic (%)','Traffic Cost', 'Competition', 'Number of Results', 'Trends', 'Timestamp'], axis=1, inplace=True)\n"
      ],
      "execution_count": 5,
      "outputs": []
    },
    {
      "cell_type": "code",
      "metadata": {
        "id": "J2vz_Jxrlwtw",
        "colab_type": "code",
        "colab": {
          "base_uri": "https://localhost:8080/",
          "height": 228
        },
        "outputId": "85fda1fb-7c91-4f62-8296-648b0446cd91"
      },
      "source": [
        "df_kwstudy.info()"
      ],
      "execution_count": 6,
      "outputs": [
        {
          "output_type": "stream",
          "text": [
            "<class 'pandas.core.frame.DataFrame'>\n",
            "RangeIndex: 13 entries, 0 to 12\n",
            "Data columns (total 6 columns):\n",
            " #   Column                    Non-Null Count  Dtype  \n",
            "---  ------                    --------------  -----  \n",
            " 0   Keyword                   13 non-null     object \n",
            " 1   Position                  13 non-null     int64  \n",
            " 2   Search Volume             13 non-null     int64  \n",
            " 3   Keyword Difficulty        13 non-null     float64\n",
            " 4   URL                       13 non-null     object \n",
            " 5   SERP Features by Keyword  13 non-null     object \n",
            "dtypes: float64(1), int64(2), object(3)\n",
            "memory usage: 752.0+ bytes\n"
          ],
          "name": "stdout"
        }
      ]
    },
    {
      "cell_type": "code",
      "metadata": {
        "id": "HJweF6B0915s",
        "colab_type": "code",
        "colab": {
          "base_uri": "https://localhost:8080/",
          "height": 133
        },
        "outputId": "3670a788-ec95-45b0-ad45-c54f175a5d8b"
      },
      "source": [
        "df_kwstudy.head(3) #let's see our new dataframe"
      ],
      "execution_count": 7,
      "outputs": [
        {
          "output_type": "execute_result",
          "data": {
            "text/html": [
              "<div>\n",
              "<style scoped>\n",
              "    .dataframe tbody tr th:only-of-type {\n",
              "        vertical-align: middle;\n",
              "    }\n",
              "\n",
              "    .dataframe tbody tr th {\n",
              "        vertical-align: top;\n",
              "    }\n",
              "\n",
              "    .dataframe thead th {\n",
              "        text-align: right;\n",
              "    }\n",
              "</style>\n",
              "<table border=\"1\" class=\"dataframe\">\n",
              "  <thead>\n",
              "    <tr style=\"text-align: right;\">\n",
              "      <th></th>\n",
              "      <th>Keyword</th>\n",
              "      <th>Position</th>\n",
              "      <th>Search Volume</th>\n",
              "      <th>Keyword Difficulty</th>\n",
              "      <th>URL</th>\n",
              "      <th>SERP Features by Keyword</th>\n",
              "    </tr>\n",
              "  </thead>\n",
              "  <tbody>\n",
              "    <tr>\n",
              "      <th>0</th>\n",
              "      <td>nuvem de palavras</td>\n",
              "      <td>89</td>\n",
              "      <td>9900</td>\n",
              "      <td>69.71</td>\n",
              "      <td>https://carolinescholles.com/nuvem-de-palavras...</td>\n",
              "      <td>Knowledge panel, Site links, Reviews, Video Ca...</td>\n",
              "    </tr>\n",
              "    <tr>\n",
              "      <th>1</th>\n",
              "      <td>nuvem de palavras online</td>\n",
              "      <td>85</td>\n",
              "      <td>1600</td>\n",
              "      <td>70.70</td>\n",
              "      <td>https://carolinescholles.com/nuvem-de-palavras...</td>\n",
              "      <td>Knowledge panel, Site links, Reviews, Video Ca...</td>\n",
              "    </tr>\n",
              "    <tr>\n",
              "      <th>2</th>\n",
              "      <td>criar nuvem de palavras</td>\n",
              "      <td>40</td>\n",
              "      <td>480</td>\n",
              "      <td>67.08</td>\n",
              "      <td>https://carolinescholles.com/nuvem-de-palavras...</td>\n",
              "      <td>Image pack, Reviews, Video Carousel, People al...</td>\n",
              "    </tr>\n",
              "  </tbody>\n",
              "</table>\n",
              "</div>"
            ],
            "text/plain": [
              "                    Keyword  ...                           SERP Features by Keyword\n",
              "0         nuvem de palavras  ...  Knowledge panel, Site links, Reviews, Video Ca...\n",
              "1  nuvem de palavras online  ...  Knowledge panel, Site links, Reviews, Video Ca...\n",
              "2   criar nuvem de palavras  ...  Image pack, Reviews, Video Carousel, People al...\n",
              "\n",
              "[3 rows x 6 columns]"
            ]
          },
          "metadata": {
            "tags": []
          },
          "execution_count": 7
        }
      ]
    },
    {
      "cell_type": "markdown",
      "metadata": {
        "id": "Rb53D-Twhiwv",
        "colab_type": "text"
      },
      "source": [
        "#Search Intent Categorization"
      ]
    },
    {
      "cell_type": "code",
      "metadata": {
        "id": "_YjtinRihlBb",
        "colab_type": "code",
        "colab": {}
      },
      "source": [
        "df_kwstudy['SERP Features'] = df_kwstudy['SERP Features by Keyword'].astype(str)\n",
        "SERP_Features = df_kwstudy['SERP Features']"
      ],
      "execution_count": 9,
      "outputs": []
    },
    {
      "cell_type": "code",
      "metadata": {
        "id": "6-6lC1LCia6M",
        "colab_type": "code",
        "colab": {}
      },
      "source": [
        "def word_count(SERP_Features, word):\n",
        "      cont = 0\n",
        "      SERP_Features = SERP_Features.lower()\n",
        "      if word in SERP_Features.lower():\n",
        "          return SERP_Features.count(word)\n",
        "      else:\n",
        "          return 0"
      ],
      "execution_count": 10,
      "outputs": []
    },
    {
      "cell_type": "code",
      "metadata": {
        "id": "zI80fEDlieXR",
        "colab_type": "code",
        "colab": {}
      },
      "source": [
        "df_kwstudy['Knowledge Panel'] = df_kwstudy['SERP Features'].apply(lambda x: word_count(x, 'panel'))/10\n",
        "df_kwstudy['Top Stories'] = df_kwstudy['SERP Features'].apply(lambda x: word_count(x, 'stories'))/10\n",
        "df_kwstudy['Twitter'] = df_kwstudy['SERP Features'].apply(lambda x: word_count(x, 'twitter'))/10\n",
        "df_kwstudy['Featured snippet'] = df_kwstudy['SERP Features'].apply(lambda x: word_count(x, 'snippet'))/10\n",
        "df_kwstudy['People Also Ask'] = df_kwstudy['SERP Features'].apply(lambda x: word_count(x, 'also'))/10\n",
        "df_kwstudy['FAQ'] = df_kwstudy['SERP Features'].apply(lambda x: word_count(x, 'faq'))/10\n",
        "df_kwstudy['Image'] = df_kwstudy['SERP Features'].apply(lambda x: word_count(x, 'image'))/10\n",
        "df_kwstudy['Instant Answer'] = df_kwstudy['SERP Features'].apply(lambda x: word_count(x, 'instant'))/10\n",
        "df_kwstudy['Site Links'] = df_kwstudy['SERP Features'].apply(lambda x: word_count(x, 'links'))/10\n",
        "df_kwstudy['Local pack'] = df_kwstudy['SERP Features'].apply(lambda x: word_count(x, 'local'))/10\n",
        "df_kwstudy['Video'] = df_kwstudy['SERP Features'].apply(lambda x: word_count(x, 'video'))/10\n",
        "df_kwstudy['Reviews'] = df_kwstudy['SERP Features'].apply(lambda x: word_count(x, 'reviews'))/10\n",
        "df_kwstudy['AMP'] = df_kwstudy['SERP Features'].apply(lambda x: word_count(x, 'AMP'))/10\n",
        "df_kwstudy['Adwords'] = df_kwstudy['SERP Features'].apply(lambda x: word_count(x, 'adwords'))/10\n",
        "df_kwstudy['Shopping Ads'] = df_kwstudy['SERP Features'].apply(lambda x: word_count(x, 'shopping'))/10"
      ],
      "execution_count": 11,
      "outputs": []
    },
    {
      "cell_type": "code",
      "metadata": {
        "id": "IUwJtNFWikRe",
        "colab_type": "code",
        "colab": {}
      },
      "source": [
        "df_kwstudy['SERP Features Degree']=df_kwstudy['Knowledge Panel'] + df_kwstudy['Top Stories'] + df_kwstudy['Twitter'] + df_kwstudy['Featured snippet'] + df_kwstudy['People Also Ask'] + df_kwstudy['Image'] + df_kwstudy['Instant Answer'] + df_kwstudy['Site Links'] + df_kwstudy['Local pack'] + df_kwstudy['Video'] + df_kwstudy['Reviews'] + df_kwstudy['AMP'] + df_kwstudy['Adwords'] + df_kwstudy['Shopping Ads']\n"
      ],
      "execution_count": 12,
      "outputs": []
    },
    {
      "cell_type": "code",
      "metadata": {
        "id": "kxgPgyhdny6N",
        "colab_type": "code",
        "colab": {}
      },
      "source": [
        "#percentual por intenção\n",
        "df_kwstudy['Know'] = df_kwstudy['Knowledge Panel'] + df_kwstudy['Top Stories'] + df_kwstudy['Twitter'] + df_kwstudy['Featured snippet'] + df_kwstudy['People Also Ask'] + df_kwstudy['Image'] + df_kwstudy['Instant Answer'] + df_kwstudy['Site Links'] + df_kwstudy['Video']\n",
        "df_kwstudy['Do'] = df_kwstudy['Adwords'] + df_kwstudy['Shopping Ads'] + df_kwstudy['Reviews']\n",
        "df_kwstudy['Local'] = df_kwstudy['Local pack']"
      ],
      "execution_count": 13,
      "outputs": []
    },
    {
      "cell_type": "code",
      "metadata": {
        "id": "vOxeH9XNq1WK",
        "colab_type": "code",
        "colab": {}
      },
      "source": [
        "df_kwstudy['Predominant Intention'] = df_kwstudy[['Know','Do','Local']].idxmax(axis=1)\n"
      ],
      "execution_count": 14,
      "outputs": []
    },
    {
      "cell_type": "code",
      "metadata": {
        "id": "oEMWLqvnipgL",
        "colab_type": "code",
        "colab": {}
      },
      "source": [
        "def classifier(row):\n",
        "  if row[\"Adwords\"] > 0 or row[\"Shopping Ads\"] > 0:\n",
        "      return \"Do\"\n",
        "  elif row[\"Reviews\"] > 0:\n",
        "      return \"Evaluate | Do\"\n",
        "  elif row[\"Local pack\"] > 0:\n",
        "      return \"Local\"\n",
        "  elif row[\"Top Stories\"] > 0 or row[\"Twitter\"] > 0:\n",
        "      return \"News\"\n",
        "  else:\n",
        "      return \"Not Identified\""
      ],
      "execution_count": 15,
      "outputs": []
    },
    {
      "cell_type": "code",
      "metadata": {
        "id": "dKx9muAqi7sI",
        "colab_type": "code",
        "colab": {}
      },
      "source": [
        "df_kwstudy[\"Secondary Intention\"] = df_kwstudy.apply(classifier, axis=1)"
      ],
      "execution_count": 16,
      "outputs": []
    },
    {
      "cell_type": "code",
      "metadata": {
        "id": "AePHCtkEi82u",
        "colab_type": "code",
        "colab": {
          "base_uri": "https://localhost:8080/",
          "height": 430
        },
        "outputId": "8527d3c1-3597-454c-f563-e3cb2e35babd"
      },
      "source": [
        "df_kwstudy.head(3)"
      ],
      "execution_count": 17,
      "outputs": [
        {
          "output_type": "execute_result",
          "data": {
            "text/html": [
              "<div>\n",
              "<style scoped>\n",
              "    .dataframe tbody tr th:only-of-type {\n",
              "        vertical-align: middle;\n",
              "    }\n",
              "\n",
              "    .dataframe tbody tr th {\n",
              "        vertical-align: top;\n",
              "    }\n",
              "\n",
              "    .dataframe thead th {\n",
              "        text-align: right;\n",
              "    }\n",
              "</style>\n",
              "<table border=\"1\" class=\"dataframe\">\n",
              "  <thead>\n",
              "    <tr style=\"text-align: right;\">\n",
              "      <th></th>\n",
              "      <th>Keyword</th>\n",
              "      <th>Position</th>\n",
              "      <th>Search Volume</th>\n",
              "      <th>Keyword Difficulty</th>\n",
              "      <th>URL</th>\n",
              "      <th>SERP Features by Keyword</th>\n",
              "      <th>SERP Features</th>\n",
              "      <th>Knowledge Panel</th>\n",
              "      <th>Top Stories</th>\n",
              "      <th>Twitter</th>\n",
              "      <th>Featured snippet</th>\n",
              "      <th>People Also Ask</th>\n",
              "      <th>FAQ</th>\n",
              "      <th>Image</th>\n",
              "      <th>Instant Answer</th>\n",
              "      <th>Site Links</th>\n",
              "      <th>Local pack</th>\n",
              "      <th>Video</th>\n",
              "      <th>Reviews</th>\n",
              "      <th>AMP</th>\n",
              "      <th>Adwords</th>\n",
              "      <th>Shopping Ads</th>\n",
              "      <th>SERP Features Degree</th>\n",
              "      <th>Know</th>\n",
              "      <th>Do</th>\n",
              "      <th>Local</th>\n",
              "      <th>Predominant Intention</th>\n",
              "      <th>Secondary Intention</th>\n",
              "    </tr>\n",
              "  </thead>\n",
              "  <tbody>\n",
              "    <tr>\n",
              "      <th>0</th>\n",
              "      <td>nuvem de palavras</td>\n",
              "      <td>89</td>\n",
              "      <td>9900</td>\n",
              "      <td>69.71</td>\n",
              "      <td>https://carolinescholles.com/nuvem-de-palavras...</td>\n",
              "      <td>Knowledge panel, Site links, Reviews, Video Ca...</td>\n",
              "      <td>Knowledge panel, Site links, Reviews, Video Ca...</td>\n",
              "      <td>0.1</td>\n",
              "      <td>0.0</td>\n",
              "      <td>0.0</td>\n",
              "      <td>0.0</td>\n",
              "      <td>0.1</td>\n",
              "      <td>0.0</td>\n",
              "      <td>0.0</td>\n",
              "      <td>0.0</td>\n",
              "      <td>0.1</td>\n",
              "      <td>0.0</td>\n",
              "      <td>0.1</td>\n",
              "      <td>0.1</td>\n",
              "      <td>0.0</td>\n",
              "      <td>0.0</td>\n",
              "      <td>0.0</td>\n",
              "      <td>0.5</td>\n",
              "      <td>0.4</td>\n",
              "      <td>0.1</td>\n",
              "      <td>0.0</td>\n",
              "      <td>Know</td>\n",
              "      <td>Evaluate | Do</td>\n",
              "    </tr>\n",
              "    <tr>\n",
              "      <th>1</th>\n",
              "      <td>nuvem de palavras online</td>\n",
              "      <td>85</td>\n",
              "      <td>1600</td>\n",
              "      <td>70.70</td>\n",
              "      <td>https://carolinescholles.com/nuvem-de-palavras...</td>\n",
              "      <td>Knowledge panel, Site links, Reviews, Video Ca...</td>\n",
              "      <td>Knowledge panel, Site links, Reviews, Video Ca...</td>\n",
              "      <td>0.1</td>\n",
              "      <td>0.0</td>\n",
              "      <td>0.0</td>\n",
              "      <td>0.0</td>\n",
              "      <td>0.1</td>\n",
              "      <td>0.0</td>\n",
              "      <td>0.0</td>\n",
              "      <td>0.0</td>\n",
              "      <td>0.1</td>\n",
              "      <td>0.0</td>\n",
              "      <td>0.1</td>\n",
              "      <td>0.1</td>\n",
              "      <td>0.0</td>\n",
              "      <td>0.0</td>\n",
              "      <td>0.0</td>\n",
              "      <td>0.5</td>\n",
              "      <td>0.4</td>\n",
              "      <td>0.1</td>\n",
              "      <td>0.0</td>\n",
              "      <td>Know</td>\n",
              "      <td>Evaluate | Do</td>\n",
              "    </tr>\n",
              "    <tr>\n",
              "      <th>2</th>\n",
              "      <td>criar nuvem de palavras</td>\n",
              "      <td>40</td>\n",
              "      <td>480</td>\n",
              "      <td>67.08</td>\n",
              "      <td>https://carolinescholles.com/nuvem-de-palavras...</td>\n",
              "      <td>Image pack, Reviews, Video Carousel, People al...</td>\n",
              "      <td>Image pack, Reviews, Video Carousel, People al...</td>\n",
              "      <td>0.0</td>\n",
              "      <td>0.0</td>\n",
              "      <td>0.0</td>\n",
              "      <td>0.0</td>\n",
              "      <td>0.1</td>\n",
              "      <td>0.0</td>\n",
              "      <td>0.1</td>\n",
              "      <td>0.0</td>\n",
              "      <td>0.0</td>\n",
              "      <td>0.0</td>\n",
              "      <td>0.1</td>\n",
              "      <td>0.1</td>\n",
              "      <td>0.0</td>\n",
              "      <td>0.0</td>\n",
              "      <td>0.0</td>\n",
              "      <td>0.4</td>\n",
              "      <td>0.3</td>\n",
              "      <td>0.1</td>\n",
              "      <td>0.0</td>\n",
              "      <td>Know</td>\n",
              "      <td>Evaluate | Do</td>\n",
              "    </tr>\n",
              "  </tbody>\n",
              "</table>\n",
              "</div>"
            ],
            "text/plain": [
              "                    Keyword  Position  ...  Predominant Intention  Secondary Intention\n",
              "0         nuvem de palavras        89  ...                   Know        Evaluate | Do\n",
              "1  nuvem de palavras online        85  ...                   Know        Evaluate | Do\n",
              "2   criar nuvem de palavras        40  ...                   Know        Evaluate | Do\n",
              "\n",
              "[3 rows x 28 columns]"
            ]
          },
          "metadata": {
            "tags": []
          },
          "execution_count": 17
        }
      ]
    },
    {
      "cell_type": "code",
      "metadata": {
        "id": "EuxRCALptTw8",
        "colab_type": "code",
        "colab": {}
      },
      "source": [
        "df_kwstudy.drop(['SERP Features'], axis=1, inplace=True)"
      ],
      "execution_count": 18,
      "outputs": []
    },
    {
      "cell_type": "code",
      "metadata": {
        "id": "io_B6yYSt0SD",
        "colab_type": "code",
        "colab": {
          "base_uri": "https://localhost:8080/",
          "height": 430
        },
        "outputId": "91f23161-b7e2-4446-dabd-86a035fa9a15"
      },
      "source": [
        "df_kwstudy.head(3)"
      ],
      "execution_count": 19,
      "outputs": [
        {
          "output_type": "execute_result",
          "data": {
            "text/html": [
              "<div>\n",
              "<style scoped>\n",
              "    .dataframe tbody tr th:only-of-type {\n",
              "        vertical-align: middle;\n",
              "    }\n",
              "\n",
              "    .dataframe tbody tr th {\n",
              "        vertical-align: top;\n",
              "    }\n",
              "\n",
              "    .dataframe thead th {\n",
              "        text-align: right;\n",
              "    }\n",
              "</style>\n",
              "<table border=\"1\" class=\"dataframe\">\n",
              "  <thead>\n",
              "    <tr style=\"text-align: right;\">\n",
              "      <th></th>\n",
              "      <th>Keyword</th>\n",
              "      <th>Position</th>\n",
              "      <th>Search Volume</th>\n",
              "      <th>Keyword Difficulty</th>\n",
              "      <th>URL</th>\n",
              "      <th>SERP Features by Keyword</th>\n",
              "      <th>Knowledge Panel</th>\n",
              "      <th>Top Stories</th>\n",
              "      <th>Twitter</th>\n",
              "      <th>Featured snippet</th>\n",
              "      <th>People Also Ask</th>\n",
              "      <th>FAQ</th>\n",
              "      <th>Image</th>\n",
              "      <th>Instant Answer</th>\n",
              "      <th>Site Links</th>\n",
              "      <th>Local pack</th>\n",
              "      <th>Video</th>\n",
              "      <th>Reviews</th>\n",
              "      <th>AMP</th>\n",
              "      <th>Adwords</th>\n",
              "      <th>Shopping Ads</th>\n",
              "      <th>SERP Features Degree</th>\n",
              "      <th>Know</th>\n",
              "      <th>Do</th>\n",
              "      <th>Local</th>\n",
              "      <th>Predominant Intention</th>\n",
              "      <th>Secondary Intention</th>\n",
              "    </tr>\n",
              "  </thead>\n",
              "  <tbody>\n",
              "    <tr>\n",
              "      <th>0</th>\n",
              "      <td>nuvem de palavras</td>\n",
              "      <td>89</td>\n",
              "      <td>9900</td>\n",
              "      <td>69.71</td>\n",
              "      <td>https://carolinescholles.com/nuvem-de-palavras...</td>\n",
              "      <td>Knowledge panel, Site links, Reviews, Video Ca...</td>\n",
              "      <td>0.1</td>\n",
              "      <td>0.0</td>\n",
              "      <td>0.0</td>\n",
              "      <td>0.0</td>\n",
              "      <td>0.1</td>\n",
              "      <td>0.0</td>\n",
              "      <td>0.0</td>\n",
              "      <td>0.0</td>\n",
              "      <td>0.1</td>\n",
              "      <td>0.0</td>\n",
              "      <td>0.1</td>\n",
              "      <td>0.1</td>\n",
              "      <td>0.0</td>\n",
              "      <td>0.0</td>\n",
              "      <td>0.0</td>\n",
              "      <td>0.5</td>\n",
              "      <td>0.4</td>\n",
              "      <td>0.1</td>\n",
              "      <td>0.0</td>\n",
              "      <td>Know</td>\n",
              "      <td>Evaluate | Do</td>\n",
              "    </tr>\n",
              "    <tr>\n",
              "      <th>1</th>\n",
              "      <td>nuvem de palavras online</td>\n",
              "      <td>85</td>\n",
              "      <td>1600</td>\n",
              "      <td>70.70</td>\n",
              "      <td>https://carolinescholles.com/nuvem-de-palavras...</td>\n",
              "      <td>Knowledge panel, Site links, Reviews, Video Ca...</td>\n",
              "      <td>0.1</td>\n",
              "      <td>0.0</td>\n",
              "      <td>0.0</td>\n",
              "      <td>0.0</td>\n",
              "      <td>0.1</td>\n",
              "      <td>0.0</td>\n",
              "      <td>0.0</td>\n",
              "      <td>0.0</td>\n",
              "      <td>0.1</td>\n",
              "      <td>0.0</td>\n",
              "      <td>0.1</td>\n",
              "      <td>0.1</td>\n",
              "      <td>0.0</td>\n",
              "      <td>0.0</td>\n",
              "      <td>0.0</td>\n",
              "      <td>0.5</td>\n",
              "      <td>0.4</td>\n",
              "      <td>0.1</td>\n",
              "      <td>0.0</td>\n",
              "      <td>Know</td>\n",
              "      <td>Evaluate | Do</td>\n",
              "    </tr>\n",
              "    <tr>\n",
              "      <th>2</th>\n",
              "      <td>criar nuvem de palavras</td>\n",
              "      <td>40</td>\n",
              "      <td>480</td>\n",
              "      <td>67.08</td>\n",
              "      <td>https://carolinescholles.com/nuvem-de-palavras...</td>\n",
              "      <td>Image pack, Reviews, Video Carousel, People al...</td>\n",
              "      <td>0.0</td>\n",
              "      <td>0.0</td>\n",
              "      <td>0.0</td>\n",
              "      <td>0.0</td>\n",
              "      <td>0.1</td>\n",
              "      <td>0.0</td>\n",
              "      <td>0.1</td>\n",
              "      <td>0.0</td>\n",
              "      <td>0.0</td>\n",
              "      <td>0.0</td>\n",
              "      <td>0.1</td>\n",
              "      <td>0.1</td>\n",
              "      <td>0.0</td>\n",
              "      <td>0.0</td>\n",
              "      <td>0.0</td>\n",
              "      <td>0.4</td>\n",
              "      <td>0.3</td>\n",
              "      <td>0.1</td>\n",
              "      <td>0.0</td>\n",
              "      <td>Know</td>\n",
              "      <td>Evaluate | Do</td>\n",
              "    </tr>\n",
              "  </tbody>\n",
              "</table>\n",
              "</div>"
            ],
            "text/plain": [
              "                    Keyword  Position  ...  Predominant Intention  Secondary Intention\n",
              "0         nuvem de palavras        89  ...                   Know        Evaluate | Do\n",
              "1  nuvem de palavras online        85  ...                   Know        Evaluate | Do\n",
              "2   criar nuvem de palavras        40  ...                   Know        Evaluate | Do\n",
              "\n",
              "[3 rows x 27 columns]"
            ]
          },
          "metadata": {
            "tags": []
          },
          "execution_count": 19
        }
      ]
    },
    {
      "cell_type": "code",
      "metadata": {
        "id": "ipzH_xczxO_y",
        "colab_type": "code",
        "colab": {}
      },
      "source": [
        "df_kwstudy.to_csv('kwfinal.csv')"
      ],
      "execution_count": null,
      "outputs": []
    }
  ]
}