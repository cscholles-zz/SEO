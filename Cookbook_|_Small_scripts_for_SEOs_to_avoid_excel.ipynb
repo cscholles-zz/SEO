{
  "nbformat": 4,
  "nbformat_minor": 0,
  "metadata": {
    "colab": {
      "name": "Cookbook | Small scripts for SEOs to avoid excel",
      "provenance": [],
      "include_colab_link": true
    },
    "kernelspec": {
      "name": "python3",
      "display_name": "Python 3"
    }
  },
  "cells": [
    {
      "cell_type": "markdown",
      "metadata": {
        "id": "view-in-github",
        "colab_type": "text"
      },
      "source": [
        "<a href=\"https://colab.research.google.com/github/cscholles/SEO/blob/master/Cookbook_%7C_Small_scripts_for_SEOs_to_avoid_excel.ipynb\" target=\"_parent\"><img src=\"https://colab.research.google.com/assets/colab-badge.svg\" alt=\"Open In Colab\"/></a>"
      ]
    },
    {
      "cell_type": "markdown",
      "metadata": {
        "id": "NFDng5rQOhKj",
        "colab_type": "text"
      },
      "source": [
        "#Libraries\n",
        "Bibliotecas que eu uso com maior frequência\n",
        "* PANDAS\n",
        "\n",
        "```\n",
        "import pandas as pd\n",
        "```\n",
        "\n",
        "* Datetime\n",
        "\n",
        "\n",
        "```\n",
        "from datetime import datetime, timedelta\n",
        "```\n",
        "\n",
        "\n"
      ]
    },
    {
      "cell_type": "markdown",
      "metadata": {
        "id": "TOJ88WIKKcjp",
        "colab_type": "text"
      },
      "source": [
        "#Remove queries/params from URLs\n",
        "Para remover queries/parâmetros de URLs"
      ]
    },
    {
      "cell_type": "code",
      "metadata": {
        "id": "K3nucEt6KCSl",
        "colab_type": "code",
        "colab": {}
      },
      "source": [
        "urls = df['URL']\n",
        "urls_without_query = [url.split('?')[0] for url in urls]\n",
        "\n",
        "df['URL'] = urls_without_query"
      ],
      "execution_count": null,
      "outputs": []
    },
    {
      "cell_type": "markdown",
      "metadata": {
        "id": "75t5T82DK0Nv",
        "colab_type": "text"
      },
      "source": [
        "#Merge URLs (or other variables) and calculate their values\n",
        "Para juntar URLs duplicadas e calcular seus valores\n",
        "\n",
        "[Referência\n",
        "](https://https://www.datascienceexamples.com/groupby-and-aggregation-with-pandas/)\n",
        "```\n",
        "grouped_df=df.groupby(‘gender’)\n",
        ".agg({‘user_name’:[‘nunique’],\n",
        "‘purchase_id’: [‘count’],\n",
        "‘price’:[‘min’, ‘max’, ‘mean’, ‘sum’]})\n",
        "```\n",
        "\n"
      ]
    },
    {
      "cell_type": "code",
      "metadata": {
        "id": "lKmRydtHLHnF",
        "colab_type": "code",
        "colab": {}
      },
      "source": [
        "df_sr = df_sr.groupby(['URL']).agg({'Keyword': 'first', \n",
        "                                 'Position': 'first',\n",
        "                                 'Search Volume': 'first',\n",
        "                                 'Keyword Difficulty': 'first',\n",
        "                                 'SERP Features by Keyword': 'first'}).reset_index()"
      ],
      "execution_count": null,
      "outputs": []
    },
    {
      "cell_type": "markdown",
      "metadata": {
        "id": "9zOFUEtyNGId",
        "colab_type": "text"
      },
      "source": [
        "#Playing with columns"
      ]
    },
    {
      "cell_type": "markdown",
      "metadata": {
        "id": "hYcV57czMxDt",
        "colab_type": "text"
      },
      "source": [
        "##Add a column with same value\n",
        "Adicionar uma coluna que contém o mesmo valor"
      ]
    },
    {
      "cell_type": "code",
      "metadata": {
        "id": "DbEdmYu_M14t",
        "colab_type": "code",
        "colab": {}
      },
      "source": [
        "df_sf['Tipo'] = 'Categoria'"
      ],
      "execution_count": null,
      "outputs": []
    },
    {
      "cell_type": "markdown",
      "metadata": {
        "id": "4m3VAwLzNCd_",
        "colab_type": "text"
      },
      "source": [
        "##Rename columns\n",
        "Renomear colunas"
      ]
    },
    {
      "cell_type": "code",
      "metadata": {
        "id": "8jM_XKDHNMfo",
        "colab_type": "code",
        "colab": {}
      },
      "source": [
        "df.rename(columns={'Title 1': 'title', 'Meta Description 1': 'MetaDescription', 'H1-1': 'H1', 'H2-2': 'H2'}, inplace=True)\n"
      ],
      "execution_count": null,
      "outputs": []
    },
    {
      "cell_type": "markdown",
      "metadata": {
        "id": "UjXU8N82NaNR",
        "colab_type": "text"
      },
      "source": [
        "#On Page SEO (check if keyword is in main html tags)\n",
        "Checar se a palavra-chave está nas principais tags da página\n",
        "\n",
        "*Data sources: I use Screaming frog and keyword study (ou semrush)*\n",
        "*Fonte de dados: normalmente utilizo screaming frog + estudo de palavras (ou semrush)*"
      ]
    },
    {
      "cell_type": "code",
      "metadata": {
        "id": "RSsOWkIVNqtg",
        "colab_type": "code",
        "colab": {}
      },
      "source": [
        "df['H1'] = df['H1'].astype(str)\n",
        "df['title'] = df['title'].astype(str)\n",
        "df['MetaDescription'] = df['MetaDescription'].astype(str)\n",
        "df['Keyword'] = df['Keyword'].astype(str)\n",
        "\n",
        "\n",
        "df['H1'] = df['H1'].str.lower()\n",
        "df['title'] = df['title'].str.lower()\n",
        "df['MetaDescription'] = df['MetaDescription'].str.lower()\n",
        "df['Keyword'] = df['Keyword'].str.lower()"
      ],
      "execution_count": null,
      "outputs": []
    },
    {
      "cell_type": "code",
      "metadata": {
        "id": "12UI01ZfN6yU",
        "colab_type": "code",
        "colab": {}
      },
      "source": [
        "#final_df['KW on URL?'] = final_df.apply(lambda x: x.Keyword in x.URL, axis=1)\n",
        "df['KW on Heading?'] = df.apply(lambda x: x.Keyword in x.H1, axis=1)\n",
        "df['KW on Title?'] = df.apply(lambda x: x.Keyword in x.title, axis=1)\n",
        "df['KW on MetaDescription?'] = df.apply(lambda x: x.Keyword in x.MetaDescription, axis=1)"
      ],
      "execution_count": null,
      "outputs": []
    },
    {
      "cell_type": "markdown",
      "metadata": {
        "id": "7RzZx9AzPR-K",
        "colab_type": "text"
      },
      "source": [
        "#Combining dataframes\n",
        "Unir diferentes dataframes (inclusive csvs) que possuem uma coluna em comum.\n",
        "\n",
        "https://datacarpentry.org/python-ecology-lesson/05-merging-data/"
      ]
    },
    {
      "cell_type": "markdown",
      "metadata": {
        "id": "aLC2jFxxPq1k",
        "colab_type": "text"
      },
      "source": [
        "###Left Joins (don't loose data)"
      ]
    },
    {
      "cell_type": "code",
      "metadata": {
        "id": "bm4mY80WPfkZ",
        "colab_type": "code",
        "colab": {}
      },
      "source": [
        "merged_gsc = pd.merge(left=df_gsc, right=df_sfall, how='left', left_on='address_gsc', right_on='Address')"
      ],
      "execution_count": null,
      "outputs": []
    },
    {
      "cell_type": "markdown",
      "metadata": {
        "id": "p-Z3XcHMP1b5",
        "colab_type": "text"
      },
      "source": [
        "###Inner Joins (loose what doesn't match)"
      ]
    },
    {
      "cell_type": "code",
      "metadata": {
        "id": "i3f7ieTyQDZy",
        "colab_type": "code",
        "colab": {}
      },
      "source": [
        "final_df = pd.merge(left=merged_ga, right=df_sr, left_on='address_gsc', right_on='URL')"
      ],
      "execution_count": null,
      "outputs": []
    },
    {
      "cell_type": "markdown",
      "metadata": {
        "id": "prQgIsSsQlek",
        "colab_type": "text"
      },
      "source": [
        "###Append: add more data to an existing dataframe"
      ]
    },
    {
      "cell_type": "code",
      "metadata": {
        "id": "LlhN00fFQzcK",
        "colab_type": "code",
        "colab": {}
      },
      "source": [
        "#df_1: Main dataframe\n",
        "#df_2: Add more data to the same dataframe\n",
        "\n",
        "df_appended = df_1.append(df_2)"
      ],
      "execution_count": null,
      "outputs": []
    }
  ]
}